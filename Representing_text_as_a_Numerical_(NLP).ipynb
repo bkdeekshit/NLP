{
 "cells": [
  {
   "cell_type": "markdown",
   "metadata": {},
   "source": [
    "# Natural Language processing"
   ]
  },
  {
   "cell_type": "code",
   "execution_count": 1,
   "metadata": {},
   "outputs": [],
   "source": [
    "# writing an sample text in an array\n",
    "\n",
    "sample_text = ['call me tonight','book a cab','please call me','what is oam']"
   ]
  },
  {
   "cell_type": "code",
   "execution_count": 2,
   "metadata": {},
   "outputs": [],
   "source": [
    "# importing count vectorizer from scikit learn library\n",
    "\n",
    "from sklearn.feature_extraction.text import CountVectorizer\n",
    "vect = CountVectorizer()"
   ]
  },
  {
   "cell_type": "code",
   "execution_count": 3,
   "metadata": {},
   "outputs": [
    {
     "data": {
      "text/plain": [
       "CountVectorizer()"
      ]
     },
     "execution_count": 3,
     "metadata": {},
     "output_type": "execute_result"
    }
   ],
   "source": [
    "# fitting the ciunt vectorizer\n",
    "\n",
    "vect.fit(sample_text)"
   ]
  },
  {
   "cell_type": "code",
   "execution_count": 4,
   "metadata": {},
   "outputs": [
    {
     "data": {
      "text/plain": [
       "['book', 'cab', 'call', 'is', 'me', 'oam', 'please', 'tonight', 'what']"
      ]
     },
     "execution_count": 4,
     "metadata": {},
     "output_type": "execute_result"
    }
   ],
   "source": [
    "# getting features names--> words given in sample text, each word is a feature \n",
    "\n",
    "features = vect.get_feature_names()\n",
    "features"
   ]
  },
  {
   "cell_type": "code",
   "execution_count": 5,
   "metadata": {},
   "outputs": [
    {
     "name": "stdout",
     "output_type": "stream",
     "text": [
      "[2, 3, 5, 7]\n"
     ]
    }
   ],
   "source": [
    "# sample code to undersatnd how to eliminate stop words\n",
    "\n",
    "x =[1,4,6]\n",
    "\n",
    "y = [2,3,4,5,1,6,7]\n",
    "z= []\n",
    "\n",
    "for item in y :\n",
    "    if item not in x:\n",
    "        z.append(item)\n",
    "print(z)"
   ]
  },
  {
   "cell_type": "code",
   "execution_count": 6,
   "metadata": {},
   "outputs": [
    {
     "name": "stdout",
     "output_type": "stream",
     "text": [
      "['book', 'cab', 'call', 'me', 'oam', 'please', 'tonight', 'what']\n"
     ]
    }
   ],
   "source": [
    "words_i_want =[]\n",
    "stop_words =['are','is']\n",
    "\n",
    "for item in features:\n",
    "    if item not in stop_words:\n",
    "        words_i_want.append(item)\n",
    "print(words_i_want)"
   ]
  },
  {
   "cell_type": "code",
   "execution_count": 7,
   "metadata": {},
   "outputs": [
    {
     "data": {
      "text/plain": [
       "<4x9 sparse matrix of type '<class 'numpy.int64'>'\n",
       "\twith 11 stored elements in Compressed Sparse Row format>"
      ]
     },
     "execution_count": 7,
     "metadata": {},
     "output_type": "execute_result"
    }
   ],
   "source": [
    "# transfroming the words into numbers using transform fucntion\n",
    "\n",
    "sample_text_dtm = vect.transform(sample_text)\n",
    "sample_text_dtm"
   ]
  },
  {
   "cell_type": "code",
   "execution_count": 8,
   "metadata": {},
   "outputs": [
    {
     "data": {
      "text/plain": [
       "array([[0, 0, 1, 0, 1, 0, 0, 1, 0],\n",
       "       [1, 1, 0, 0, 0, 0, 0, 0, 0],\n",
       "       [0, 0, 1, 0, 1, 0, 1, 0, 0],\n",
       "       [0, 0, 0, 1, 0, 1, 0, 0, 1]], dtype=int64)"
      ]
     },
     "execution_count": 8,
     "metadata": {},
     "output_type": "execute_result"
    }
   ],
   "source": [
    "# arrangint the converted words into numbers in matrix or array\n",
    "\n",
    "sample_text_dtm.toarray()"
   ]
  },
  {
   "cell_type": "code",
   "execution_count": 9,
   "metadata": {},
   "outputs": [],
   "source": [
    "# importing pandas for creating dataframs\n",
    "\n",
    "import pandas as pd"
   ]
  },
  {
   "cell_type": "code",
   "execution_count": 10,
   "metadata": {},
   "outputs": [
    {
     "data": {
      "text/html": [
       "<div>\n",
       "<style scoped>\n",
       "    .dataframe tbody tr th:only-of-type {\n",
       "        vertical-align: middle;\n",
       "    }\n",
       "\n",
       "    .dataframe tbody tr th {\n",
       "        vertical-align: top;\n",
       "    }\n",
       "\n",
       "    .dataframe thead th {\n",
       "        text-align: right;\n",
       "    }\n",
       "</style>\n",
       "<table border=\"1\" class=\"dataframe\">\n",
       "  <thead>\n",
       "    <tr style=\"text-align: right;\">\n",
       "      <th></th>\n",
       "      <th>book</th>\n",
       "      <th>cab</th>\n",
       "      <th>call</th>\n",
       "      <th>is</th>\n",
       "      <th>me</th>\n",
       "      <th>oam</th>\n",
       "      <th>please</th>\n",
       "      <th>tonight</th>\n",
       "      <th>what</th>\n",
       "    </tr>\n",
       "  </thead>\n",
       "  <tbody>\n",
       "    <tr>\n",
       "      <th>0</th>\n",
       "      <td>0</td>\n",
       "      <td>0</td>\n",
       "      <td>1</td>\n",
       "      <td>0</td>\n",
       "      <td>1</td>\n",
       "      <td>0</td>\n",
       "      <td>0</td>\n",
       "      <td>1</td>\n",
       "      <td>0</td>\n",
       "    </tr>\n",
       "    <tr>\n",
       "      <th>1</th>\n",
       "      <td>1</td>\n",
       "      <td>1</td>\n",
       "      <td>0</td>\n",
       "      <td>0</td>\n",
       "      <td>0</td>\n",
       "      <td>0</td>\n",
       "      <td>0</td>\n",
       "      <td>0</td>\n",
       "      <td>0</td>\n",
       "    </tr>\n",
       "    <tr>\n",
       "      <th>2</th>\n",
       "      <td>0</td>\n",
       "      <td>0</td>\n",
       "      <td>1</td>\n",
       "      <td>0</td>\n",
       "      <td>1</td>\n",
       "      <td>0</td>\n",
       "      <td>1</td>\n",
       "      <td>0</td>\n",
       "      <td>0</td>\n",
       "    </tr>\n",
       "    <tr>\n",
       "      <th>3</th>\n",
       "      <td>0</td>\n",
       "      <td>0</td>\n",
       "      <td>0</td>\n",
       "      <td>1</td>\n",
       "      <td>0</td>\n",
       "      <td>1</td>\n",
       "      <td>0</td>\n",
       "      <td>0</td>\n",
       "      <td>1</td>\n",
       "    </tr>\n",
       "  </tbody>\n",
       "</table>\n",
       "</div>"
      ],
      "text/plain": [
       "   book  cab  call  is  me  oam  please  tonight  what\n",
       "0     0    0     1   0   1    0       0        1     0\n",
       "1     1    1     0   0   0    0       0        0     0\n",
       "2     0    0     1   0   1    0       1        0     0\n",
       "3     0    0     0   1   0    1       0        0     1"
      ]
     },
     "execution_count": 10,
     "metadata": {},
     "output_type": "execute_result"
    }
   ],
   "source": [
    "pd.DataFrame(sample_text_dtm.toarray(),columns=vect.get_feature_names())"
   ]
  },
  {
   "cell_type": "code",
   "execution_count": 11,
   "metadata": {},
   "outputs": [],
   "source": [
    "# vectorization is a process of converting a collection of text data into numerical feature vector."
   ]
  },
  {
   "cell_type": "code",
   "execution_count": 12,
   "metadata": {},
   "outputs": [],
   "source": [
    "import numpy as np"
   ]
  },
  {
   "cell_type": "code",
   "execution_count": 13,
   "metadata": {},
   "outputs": [
    {
     "data": {
      "text/html": [
       "<div>\n",
       "<style scoped>\n",
       "    .dataframe tbody tr th:only-of-type {\n",
       "        vertical-align: middle;\n",
       "    }\n",
       "\n",
       "    .dataframe tbody tr th {\n",
       "        vertical-align: top;\n",
       "    }\n",
       "\n",
       "    .dataframe thead th {\n",
       "        text-align: right;\n",
       "    }\n",
       "</style>\n",
       "<table border=\"1\" class=\"dataframe\">\n",
       "  <thead>\n",
       "    <tr style=\"text-align: right;\">\n",
       "      <th></th>\n",
       "      <th>Label</th>\n",
       "      <th>Message</th>\n",
       "    </tr>\n",
       "  </thead>\n",
       "  <tbody>\n",
       "    <tr>\n",
       "      <th>0</th>\n",
       "      <td>spam</td>\n",
       "      <td>Dear Student, Its never too late-clear your ba...</td>\n",
       "    </tr>\n",
       "    <tr>\n",
       "      <th>1</th>\n",
       "      <td>spam</td>\n",
       "      <td>Join V-STUDY and score excellent marks in clas...</td>\n",
       "    </tr>\n",
       "    <tr>\n",
       "      <th>2</th>\n",
       "      <td>spam</td>\n",
       "      <td>Join crash courses for B.ST,A/C'S,ECO,ENG,&amp;IP ...</td>\n",
       "    </tr>\n",
       "    <tr>\n",
       "      <th>3</th>\n",
       "      <td>spam</td>\n",
       "      <td>CRASH COURSES by BEST POOL OF FACULTY. ENGLISH...</td>\n",
       "    </tr>\n",
       "    <tr>\n",
       "      <th>4</th>\n",
       "      <td>ham</td>\n",
       "      <td>Dear Ola Shuttle user, get 60% Off on your nex...</td>\n",
       "    </tr>\n",
       "    <tr>\n",
       "      <th>5</th>\n",
       "      <td>spam</td>\n",
       "      <td>Please pay bill amount of Rs. 29 in cash for y...</td>\n",
       "    </tr>\n",
       "    <tr>\n",
       "      <th>6</th>\n",
       "      <td>spam</td>\n",
       "      <td>Watch the undercover story of Subhash Chandra ...</td>\n",
       "    </tr>\n",
       "    <tr>\n",
       "      <th>7</th>\n",
       "      <td>spam</td>\n",
       "      <td>Bollywood Beauties go Bold. Get Videos, Wallpa...</td>\n",
       "    </tr>\n",
       "    <tr>\n",
       "      <th>8</th>\n",
       "      <td>spam</td>\n",
       "      <td>Ab hum laye hai aapke liye romantic calletunes...</td>\n",
       "    </tr>\n",
       "    <tr>\n",
       "      <th>9</th>\n",
       "      <td>spam</td>\n",
       "      <td>Govt Mandate: Update Aadhaar to avoid blocking...</td>\n",
       "    </tr>\n",
       "  </tbody>\n",
       "</table>\n",
       "</div>"
      ],
      "text/plain": [
       "  Label                                            Message\n",
       "0  spam  Dear Student, Its never too late-clear your ba...\n",
       "1  spam  Join V-STUDY and score excellent marks in clas...\n",
       "2  spam  Join crash courses for B.ST,A/C'S,ECO,ENG,&IP ...\n",
       "3  spam  CRASH COURSES by BEST POOL OF FACULTY. ENGLISH...\n",
       "4   ham  Dear Ola Shuttle user, get 60% Off on your nex...\n",
       "5  spam  Please pay bill amount of Rs. 29 in cash for y...\n",
       "6  spam  Watch the undercover story of Subhash Chandra ...\n",
       "7  spam  Bollywood Beauties go Bold. Get Videos, Wallpa...\n",
       "8  spam  Ab hum laye hai aapke liye romantic calletunes...\n",
       "9  spam  Govt Mandate: Update Aadhaar to avoid blocking..."
      ]
     },
     "execution_count": 13,
     "metadata": {},
     "output_type": "execute_result"
    }
   ],
   "source": [
    "# Importing the data\n",
    "\n",
    "sms = pd.read_csv('Downloads/new.csv')\n",
    "sms.head(10)"
   ]
  },
  {
   "cell_type": "code",
   "execution_count": 14,
   "metadata": {},
   "outputs": [
    {
     "data": {
      "text/plain": [
       "(184, 2)"
      ]
     },
     "execution_count": 14,
     "metadata": {},
     "output_type": "execute_result"
    }
   ],
   "source": [
    "sms.shape"
   ]
  },
  {
   "cell_type": "code",
   "execution_count": 15,
   "metadata": {},
   "outputs": [
    {
     "data": {
      "text/plain": [
       "spam    107\n",
       "ham      77\n",
       "Name: Label, dtype: int64"
      ]
     },
     "execution_count": 15,
     "metadata": {},
     "output_type": "execute_result"
    }
   ],
   "source": [
    "sms.Label.value_counts()"
   ]
  },
  {
   "cell_type": "code",
   "execution_count": 16,
   "metadata": {},
   "outputs": [
    {
     "name": "stdout",
     "output_type": "stream",
     "text": [
      "Populating the interactive namespace from numpy and matplotlib\n"
     ]
    }
   ],
   "source": [
    "%pylab inline"
   ]
  },
  {
   "cell_type": "code",
   "execution_count": 18,
   "metadata": {},
   "outputs": [
    {
     "data": {
      "text/plain": [
       "<AxesSubplot:>"
      ]
     },
     "execution_count": 18,
     "metadata": {},
     "output_type": "execute_result"
    },
    {
     "data": {
      "image/png": "[encoded data removed]",
      "text/plain": [
       "<Figure size 432x288 with 1 Axes>"
      ]
     },
     "metadata": {
      "needs_background": "light"
     },
     "output_type": "display_data"
    }
   ],
   "source": [
    "# bar graph for spam and ham count from the imported dataset\n",
    "\n",
    "y = sms.Label.value_counts()\n",
    "y.plot(kind='bar')"
   ]
  },
  {
   "cell_type": "code",
   "execution_count": 19,
   "metadata": {},
   "outputs": [],
   "source": [
    "# defining new columum for target coloum for ham as 0 and spam as 1\n",
    "\n",
    "sms['label_num']= sms.Label.map({'ham':0,'spam':1})"
   ]
  },
  {
   "cell_type": "code",
   "execution_count": 22,
   "metadata": {},
   "outputs": [
    {
     "data": {
      "text/html": [
       "<div>\n",
       "<style scoped>\n",
       "    .dataframe tbody tr th:only-of-type {\n",
       "        vertical-align: middle;\n",
       "    }\n",
       "\n",
       "    .dataframe tbody tr th {\n",
       "        vertical-align: top;\n",
       "    }\n",
       "\n",
       "    .dataframe thead th {\n",
       "        text-align: right;\n",
       "    }\n",
       "</style>\n",
       "<table border=\"1\" class=\"dataframe\">\n",
       "  <thead>\n",
       "    <tr style=\"text-align: right;\">\n",
       "      <th></th>\n",
       "      <th>Label</th>\n",
       "      <th>Message</th>\n",
       "      <th>label_num</th>\n",
       "    </tr>\n",
       "  </thead>\n",
       "  <tbody>\n",
       "    <tr>\n",
       "      <th>0</th>\n",
       "      <td>spam</td>\n",
       "      <td>Dear Student, Its never too late-clear your ba...</td>\n",
       "      <td>1</td>\n",
       "    </tr>\n",
       "    <tr>\n",
       "      <th>1</th>\n",
       "      <td>spam</td>\n",
       "      <td>Join V-STUDY and score excellent marks in clas...</td>\n",
       "      <td>1</td>\n",
       "    </tr>\n",
       "    <tr>\n",
       "      <th>2</th>\n",
       "      <td>spam</td>\n",
       "      <td>Join crash courses for B.ST,A/C'S,ECO,ENG,&amp;IP ...</td>\n",
       "      <td>1</td>\n",
       "    </tr>\n",
       "    <tr>\n",
       "      <th>3</th>\n",
       "      <td>spam</td>\n",
       "      <td>CRASH COURSES by BEST POOL OF FACULTY. ENGLISH...</td>\n",
       "      <td>1</td>\n",
       "    </tr>\n",
       "    <tr>\n",
       "      <th>4</th>\n",
       "      <td>ham</td>\n",
       "      <td>Dear Ola Shuttle user, get 60% Off on your nex...</td>\n",
       "      <td>0</td>\n",
       "    </tr>\n",
       "    <tr>\n",
       "      <th>5</th>\n",
       "      <td>spam</td>\n",
       "      <td>Please pay bill amount of Rs. 29 in cash for y...</td>\n",
       "      <td>1</td>\n",
       "    </tr>\n",
       "    <tr>\n",
       "      <th>6</th>\n",
       "      <td>spam</td>\n",
       "      <td>Watch the undercover story of Subhash Chandra ...</td>\n",
       "      <td>1</td>\n",
       "    </tr>\n",
       "    <tr>\n",
       "      <th>7</th>\n",
       "      <td>spam</td>\n",
       "      <td>Bollywood Beauties go Bold. Get Videos, Wallpa...</td>\n",
       "      <td>1</td>\n",
       "    </tr>\n",
       "    <tr>\n",
       "      <th>8</th>\n",
       "      <td>spam</td>\n",
       "      <td>Ab hum laye hai aapke liye romantic calletunes...</td>\n",
       "      <td>1</td>\n",
       "    </tr>\n",
       "    <tr>\n",
       "      <th>9</th>\n",
       "      <td>spam</td>\n",
       "      <td>Govt Mandate: Update Aadhaar to avoid blocking...</td>\n",
       "      <td>1</td>\n",
       "    </tr>\n",
       "  </tbody>\n",
       "</table>\n",
       "</div>"
      ],
      "text/plain": [
       "  Label                                            Message  label_num\n",
       "0  spam  Dear Student, Its never too late-clear your ba...          1\n",
       "1  spam  Join V-STUDY and score excellent marks in clas...          1\n",
       "2  spam  Join crash courses for B.ST,A/C'S,ECO,ENG,&IP ...          1\n",
       "3  spam  CRASH COURSES by BEST POOL OF FACULTY. ENGLISH...          1\n",
       "4   ham  Dear Ola Shuttle user, get 60% Off on your nex...          0\n",
       "5  spam  Please pay bill amount of Rs. 29 in cash for y...          1\n",
       "6  spam  Watch the undercover story of Subhash Chandra ...          1\n",
       "7  spam  Bollywood Beauties go Bold. Get Videos, Wallpa...          1\n",
       "8  spam  Ab hum laye hai aapke liye romantic calletunes...          1\n",
       "9  spam  Govt Mandate: Update Aadhaar to avoid blocking...          1"
      ]
     },
     "execution_count": 22,
     "metadata": {},
     "output_type": "execute_result"
    }
   ],
   "source": [
    "sms.head(10)"
   ]
  },
  {
   "cell_type": "code",
   "execution_count": 23,
   "metadata": {},
   "outputs": [
    {
     "name": "stdout",
     "output_type": "stream",
     "text": [
      "(184,) (184,)\n"
     ]
    }
   ],
   "source": [
    "#defining variables and target\n",
    "\n",
    "x = sms.Message\n",
    "y = sms.label_num\n",
    "print(x.shape,y.shape)"
   ]
  },
  {
   "cell_type": "code",
   "execution_count": 24,
   "metadata": {},
   "outputs": [],
   "source": [
    "# importing library for spillting data into train and test\n",
    "\n",
    "from sklearn.model_selection import train_test_split"
   ]
  },
  {
   "cell_type": "code",
   "execution_count": 26,
   "metadata": {},
   "outputs": [
    {
     "name": "stdout",
     "output_type": "stream",
     "text": [
      "(138,) (46,) (138,) (46,)\n"
     ]
    }
   ],
   "source": [
    "x_train,x_test,y_train,y_test = train_test_split(x,y,test_size =0.25,random_state=42,stratify=y)\n",
    "print(x_train.shape,x_test.shape,y_train.shape,y_test.shape)"
   ]
  },
  {
   "cell_type": "code",
   "execution_count": 28,
   "metadata": {},
   "outputs": [
    {
     "data": {
      "text/plain": [
       "CountVectorizer()"
      ]
     },
     "execution_count": 28,
     "metadata": {},
     "output_type": "execute_result"
    }
   ],
   "source": [
    "# initiating the vectorizer\n",
    "\n",
    "vect = CountVectorizer()\n",
    "vect.fit(x_train)"
   ]
  },
  {
   "cell_type": "code",
   "execution_count": 29,
   "metadata": {
    "collapsed": true
   },
   "outputs": [
    {
     "name": "stdout",
     "output_type": "stream",
     "text": [
      "  (0, 134)\t1\n",
      "  (0, 180)\t1\n",
      "  (0, 184)\t1\n",
      "  (0, 196)\t1\n",
      "  (0, 224)\t1\n",
      "  (0, 235)\t1\n",
      "  (0, 252)\t1\n",
      "  (0, 317)\t1\n",
      "  (0, 369)\t1\n",
      "  (0, 458)\t1\n",
      "  (0, 514)\t1\n",
      "  (0, 515)\t2\n",
      "  (0, 516)\t1\n",
      "  (0, 561)\t1\n",
      "  (0, 565)\t1\n",
      "  (0, 577)\t1\n",
      "  (0, 585)\t1\n",
      "  (0, 622)\t1\n",
      "  (0, 630)\t1\n",
      "  (0, 633)\t2\n",
      "  (0, 649)\t1\n",
      "  (0, 658)\t1\n",
      "  (0, 672)\t1\n",
      "  (0, 701)\t1\n",
      "  (0, 715)\t1\n",
      "  :\t:\n",
      "  (136, 788)\t1\n",
      "  (136, 790)\t1\n",
      "  (136, 813)\t1\n",
      "  (136, 851)\t1\n",
      "  (136, 869)\t1\n",
      "  (136, 872)\t1\n",
      "  (137, 109)\t1\n",
      "  (137, 147)\t1\n",
      "  (137, 205)\t1\n",
      "  (137, 246)\t1\n",
      "  (137, 251)\t1\n",
      "  (137, 252)\t1\n",
      "  (137, 309)\t1\n",
      "  (137, 332)\t1\n",
      "  (137, 363)\t2\n",
      "  (137, 401)\t1\n",
      "  (137, 409)\t1\n",
      "  (137, 410)\t2\n",
      "  (137, 593)\t1\n",
      "  (137, 705)\t1\n",
      "  (137, 771)\t1\n",
      "  (137, 794)\t1\n",
      "  (137, 810)\t1\n",
      "  (137, 850)\t1\n",
      "  (137, 891)\t1\n"
     ]
    }
   ],
   "source": [
    "print(vect.transform(x_train))"
   ]
  },
  {
   "cell_type": "code",
   "execution_count": 31,
   "metadata": {
    "collapsed": true
   },
   "outputs": [
    {
     "name": "stdout",
     "output_type": "stream",
     "text": [
      "  (0, 458)\t1\n",
      "  (0, 515)\t2\n",
      "  (0, 565)\t1\n",
      "  (0, 865)\t1\n",
      "  (0, 196)\t1\n",
      "  (0, 184)\t1\n",
      "  (0, 633)\t2\n",
      "  (0, 715)\t1\n",
      "  (0, 900)\t1\n",
      "  (0, 672)\t1\n",
      "  (0, 904)\t1\n",
      "  (0, 252)\t1\n",
      "  (0, 134)\t1\n",
      "  (0, 514)\t1\n",
      "  (0, 235)\t1\n",
      "  (0, 1019)\t1\n",
      "  (0, 622)\t1\n",
      "  (0, 516)\t1\n",
      "  (0, 649)\t1\n",
      "  (0, 369)\t1\n",
      "  (0, 878)\t1\n",
      "  (0, 224)\t1\n",
      "  (0, 658)\t1\n",
      "  (0, 317)\t1\n",
      "  (0, 180)\t1\n",
      "  :\t:\n",
      "  (136, 396)\t1\n",
      "  (136, 83)\t1\n",
      "  (136, 872)\t1\n",
      "  (136, 377)\t1\n",
      "  (136, 240)\t1\n",
      "  (136, 103)\t1\n",
      "  (137, 252)\t1\n",
      "  (137, 409)\t1\n",
      "  (137, 246)\t1\n",
      "  (137, 850)\t1\n",
      "  (137, 147)\t1\n",
      "  (137, 410)\t2\n",
      "  (137, 810)\t1\n",
      "  (137, 251)\t1\n",
      "  (137, 705)\t1\n",
      "  (137, 771)\t1\n",
      "  (137, 332)\t1\n",
      "  (137, 205)\t1\n",
      "  (137, 891)\t1\n",
      "  (137, 309)\t1\n",
      "  (137, 401)\t1\n",
      "  (137, 794)\t1\n",
      "  (137, 363)\t2\n",
      "  (137, 593)\t1\n",
      "  (137, 109)\t1\n"
     ]
    }
   ],
   "source": [
    "x_train_dtm = vect.fit_transform(x_train)\n",
    "print(x_train_dtm)"
   ]
  },
  {
   "cell_type": "code",
   "execution_count": 32,
   "metadata": {},
   "outputs": [
    {
     "data": {
      "text/plain": [
       "<46x1037 sparse matrix of type '<class 'numpy.int64'>'\n",
       "\twith 824 stored elements in Compressed Sparse Row format>"
      ]
     },
     "execution_count": 32,
     "metadata": {},
     "output_type": "execute_result"
    }
   ],
   "source": [
    "x_test_dtm =  vect.transform(x_test)\n",
    "x_test_dtm"
   ]
  },
  {
   "cell_type": "code",
   "execution_count": 33,
   "metadata": {},
   "outputs": [],
   "source": [
    "# importing and initiate a multinomial navie basis \n",
    "\n",
    "from sklearn.naive_bayes import MultinomialNB"
   ]
  },
  {
   "cell_type": "code",
   "execution_count": 51,
   "metadata": {},
   "outputs": [],
   "source": [
    "model = MultinomialNB(alpha=1)"
   ]
  },
  {
   "cell_type": "code",
   "execution_count": 52,
   "metadata": {},
   "outputs": [
    {
     "name": "stdout",
     "output_type": "stream",
     "text": [
      "Wall time: 3.42 ms\n"
     ]
    },
    {
     "data": {
      "text/plain": [
       "MultinomialNB(alpha=1)"
      ]
     },
     "execution_count": 52,
     "metadata": {},
     "output_type": "execute_result"
    }
   ],
   "source": [
    "%time model.fit(x_train_dtm,y_train)"
   ]
  },
  {
   "cell_type": "code",
   "execution_count": 53,
   "metadata": {},
   "outputs": [],
   "source": [
    "# predicting the spam or ham form test dataset\n",
    "\n",
    "y_pred = model.predict(x_test_dtm)"
   ]
  },
  {
   "cell_type": "code",
   "execution_count": 54,
   "metadata": {},
   "outputs": [
    {
     "data": {
      "text/plain": [
       "0.8913043478260869"
      ]
     },
     "execution_count": 54,
     "metadata": {},
     "output_type": "execute_result"
    }
   ],
   "source": [
    "# accuracy of the model\n",
    "\n",
    "model.score(x_test_dtm,y_test)"
   ]
  },
  {
   "cell_type": "code",
   "execution_count": 55,
   "metadata": {},
   "outputs": [
    {
     "data": {
      "text/plain": [
       "array([0, 1, 1, 0, 1, 1, 0, 1, 0, 1, 0, 1, 0, 1, 0, 1, 1, 1, 0, 1, 1, 1,\n",
       "       1, 1, 1, 0, 0, 0, 1, 0, 1, 1, 1, 0, 1, 0, 1, 0, 1, 1, 1, 1, 1, 0,\n",
       "       1, 1], dtype=int64)"
      ]
     },
     "execution_count": 55,
     "metadata": {},
     "output_type": "execute_result"
    }
   ],
   "source": [
    "y_pred"
   ]
  },
  {
   "cell_type": "code",
   "execution_count": 57,
   "metadata": {},
   "outputs": [
    {
     "data": {
      "text/plain": [
       "array([0, 1, 1, 0, 0, 1, 0, 0, 0, 1, 0, 1, 0, 1, 0, 0, 1, 1, 0, 1, 1, 1,\n",
       "       1, 1, 1, 0, 0, 0, 1, 0, 1, 1, 1, 0, 1, 0, 0, 0, 1, 1, 1, 1, 1, 1,\n",
       "       1, 1], dtype=int64)"
      ]
     },
     "execution_count": 57,
     "metadata": {},
     "output_type": "execute_result"
    }
   ],
   "source": [
    "array(y_test)"
   ]
  },
  {
   "cell_type": "code",
   "execution_count": 58,
   "metadata": {},
   "outputs": [
    {
     "data": {
      "text/plain": [
       "46"
      ]
     },
     "execution_count": 58,
     "metadata": {},
     "output_type": "execute_result"
    }
   ],
   "source": [
    "# Lets check how many is correclty predicted with out using inbuilt function\n",
    "\n",
    "len(y_pred)"
   ]
  },
  {
   "cell_type": "code",
   "execution_count": 59,
   "metadata": {},
   "outputs": [
    {
     "name": "stdout",
     "output_type": "stream",
     "text": [
      "True:  0\n",
      "True:  0\n"
     ]
    }
   ],
   "source": [
    "from __future__ import print_function\n",
    "print(\"True: \", y_test.values[0])\n",
    "print(\"True: \", y_pred[0])"
   ]
  },
  {
   "cell_type": "code",
   "execution_count": 61,
   "metadata": {},
   "outputs": [
    {
     "name": "stdout",
     "output_type": "stream",
     "text": [
      "41\n"
     ]
    }
   ],
   "source": [
    "count = 0\n",
    "for i in range (len(y_pred)):\n",
    "    if y_test.values[i] == y_pred[i]:\n",
    "        count = count+1\n",
    "print(count)\n",
    "        "
   ]
  },
  {
   "cell_type": "code",
   "execution_count": 62,
   "metadata": {},
   "outputs": [
    {
     "name": "stdout",
     "output_type": "stream",
     "text": [
      "Accuracy :  0.8913043478260869\n"
     ]
    }
   ],
   "source": [
    "print(\"Accuracy : \", count/(len(y_pred)))"
   ]
  },
  {
   "cell_type": "code",
   "execution_count": null,
   "metadata": {},
   "outputs": [],
   "source": []
  }
 ],
 "metadata": {
  "kernelspec": {
   "display_name": "Python 3",
   "language": "python",
   "name": "python3"
  },
  "language_info": {
   "codemirror_mode": {
    "name": "ipython",
    "version": 3
   },
   "file_extension": ".py",
   "mimetype": "text/x-python",
   "name": "python",
   "nbconvert_exporter": "python",
   "pygments_lexer": "ipython3",
   "version": "3.8.5"
  }
 },
 "nbformat": 4,
 "nbformat_minor": 4
}
